{
 "cells": [
  {
   "cell_type": "markdown",
   "id": "51b3bfea",
   "metadata": {},
   "source": [
    "1. Librerias"
   ]
  },
  {
   "cell_type": "code",
   "execution_count": null,
   "id": "7e993fa2",
   "metadata": {},
   "outputs": [],
   "source": [
    "# ------------------------ Visualización ------------------------\n",
    "import matplotlib.pyplot as plt                          # trazado básico con Matplotlib\n",
    "import matplotlib.dates as mdates                        # formateo de fechas en ejes\n",
    "from matplotlib.dates import DateFormatter               # formatos personalizados de fecha\n",
    "import matplotlib.patches as mpatches                    # creación de parches / leyendas\n",
    "from matplotlib.patches import Ellipse                   #create and draw elliptical shapes within a Matplotlib plot.\n",
    "%matplotlib inline\n",
    "import seaborn as sns                                    # visualizaciones estadísticas construidas sobre Matplotlib\n",
    "\n",
    "\n",
    "# ------------------------ Manipulación de datos ------------------------\n",
    "import pandas as pd                                      # estructuras tipo DataFrame\n",
    "import numpy as np\n",
    "from sklearn.preprocessing import StandardScaler         #Z-score normalization.\n",
    "from sklearn.decomposition import PCA\n",
    "#from ydata_profiling import ProfileReport                #analisis exploratorio\n",
    "from scipy import stats\n",
    "from scipy.cluster.hierarchy import linkage, dendrogram, set_link_color_palette\n",
    "\n",
    "from scipy.cluster.hierarchy import dendrogram           #function is used to visualize the results of hierarchical clustering\n",
    "from sklearn.cluster import AgglomerativeClustering\n",
    "import scipy.cluster.hierarchy as sch\n",
    "from sklearn.cluster import KMeans\n",
    "from scipy.spatial import ConvexHull\n",
    "from sklearn.metrics import silhouette_score\n",
    "\n",
    "from sklearn.preprocessing import PolynomialFeatures   #transformación datos X al cuadrado\n",
    "\n",
    "#----------------------- Factor Analyzer -------------------------------\n",
    "\n",
    "'''\n",
    "from factor_analyzer.factor_analyzer import calculate_kmo\n",
    "from factor_analyzer.factor_analyzer import calculate_bartlett_sphericity\n",
    "from factor_analyzer import FactorAnalyzer\n",
    "import networkx as nx\n",
    "'''\n",
    "\n",
    "#---------------------- linear regression (OLS), generalized linear models (GLM), and various statistical tests.\n",
    "import statsmodels.api as sm\n",
    "from statsmodels.stats.diagnostic import linear_reset\n",
    "from statsmodels.stats.diagnostic import het_white\n",
    "from statsmodels.sandbox.stats.runs import runstest_1samp\n",
    "from scipy.stats import kstest\n",
    "from sklearn.linear_model import LinearRegression\n",
    "from statsmodels.stats.outliers_influence import variance_inflation_factor\n",
    "\n",
    "from statsmodels.stats.stattools import durbin_watson\n",
    "#Cargar las librerías\n",
    "\n",
    "\n",
    "from collections import Counter\n",
    "import math\n",
    "\n",
    "\n",
    "#---------------------- UC Irvine Machine Learning Repository ---------------------------------------------\n",
    "from ucimlrepo import fetch_ucirepo\n"
   ]
  },
  {
   "cell_type": "code",
   "execution_count": null,
   "id": "64a54596",
   "metadata": {},
   "outputs": [],
   "source": []
  },
  {
   "cell_type": "markdown",
   "id": "1539ea8e",
   "metadata": {},
   "source": [
    "2. Cargar el conjunto de datos"
   ]
  },
  {
   "cell_type": "code",
   "execution_count": null,
   "id": "2b6afe7c",
   "metadata": {},
   "outputs": [],
   "source": []
  },
  {
   "cell_type": "code",
   "execution_count": null,
   "id": "7cf916e0",
   "metadata": {},
   "outputs": [],
   "source": [
    "#codigo de https://archive.ics.uci.edu/dataset/555/apartment+for+rent+classified\n",
    "idcode=555\n",
    "   \n",
    "\n",
    "try:\n",
    "    from ucimlrepo import fetch_ucirepo\n",
    "    # fetch dataset \n",
    "    apartment_for_rent_classified = fetch_ucirepo(id=idcode) \n",
    "       \n",
    "    # data (as pandas dataframes) \n",
    "    datos = apartment_for_rent_classified.data.features\n",
    "      \n",
    "\n",
    "    print(apartment_for_rent_classified.variables) \n",
    "\n",
    "\n",
    "except ModuleNotFoundError:\n",
    "    print(\"La librería 'ucimlrepo' no está instalada.\")\n",
    "    # Puedes añadir aquí un comando para instalarla, por ejemplo:\n",
    "    import subprocess\n",
    "    subprocess.check_call([\"pip\", \"install\", \"ucimlrepo\"])\n",
    "\n",
    "except Exception as e:  # Catching other types of exceptions\n",
    "    print(f\"Error inesperado: {e}\")\n",
    "    "
   ]
  },
  {
   "cell_type": "markdown",
   "id": "e92310d4",
   "metadata": {},
   "source": [
    "EDA"
   ]
  },
  {
   "cell_type": "code",
   "execution_count": 10,
   "id": "b270d396",
   "metadata": {},
   "outputs": [
    {
     "name": "stdout",
     "output_type": "stream",
     "text": [
      "<class 'pandas.core.frame.DataFrame'>\n",
      "RangeIndex: 99826 entries, 0 to 99825\n",
      "Data columns (total 21 columns):\n",
      " #   Column         Non-Null Count  Dtype  \n",
      "---  ------         --------------  -----  \n",
      " 0   category       99826 non-null  object \n",
      " 1   title          99826 non-null  object \n",
      " 2   body           99826 non-null  object \n",
      " 3   amenities      83749 non-null  object \n",
      " 4   bathrooms      99760 non-null  object \n",
      " 5   bedrooms       99699 non-null  object \n",
      " 6   currency       99822 non-null  object \n",
      " 7   fee            99823 non-null  object \n",
      " 8   has_photo      99823 non-null  object \n",
      " 9   pets_allowed   39192 non-null  object \n",
      " 10  price          99821 non-null  float64\n",
      " 11  price_display  99820 non-null  object \n",
      " 12  price_type     99823 non-null  object \n",
      " 13  square_feet    99823 non-null  object \n",
      " 14  address        7946 non-null   object \n",
      " 15  cityname       99521 non-null  object \n",
      " 16  state          99521 non-null  object \n",
      " 17  latitude       99797 non-null  float64\n",
      " 18  longitude      99795 non-null  float64\n",
      " 19  source         99820 non-null  object \n",
      " 20  time           99820 non-null  float64\n",
      "dtypes: float64(4), object(17)\n",
      "memory usage: 16.0+ MB\n"
     ]
    }
   ],
   "source": [
    "datos.info()"
   ]
  },
  {
   "cell_type": "code",
   "execution_count": null,
   "id": "610cfa64",
   "metadata": {},
   "outputs": [],
   "source": [
    "datos.describe()"
   ]
  },
  {
   "cell_type": "code",
   "execution_count": null,
   "id": "a46979d7",
   "metadata": {},
   "outputs": [],
   "source": [
    "datos.head()"
   ]
  },
  {
   "cell_type": "markdown",
   "id": "56e2864b",
   "metadata": {},
   "source": [
    "##Limpieza de datos"
   ]
  },
  {
   "cell_type": "code",
   "execution_count": null,
   "id": "8be4fe9e",
   "metadata": {},
   "outputs": [],
   "source": [
    "\n",
    "#datos.loc[:,'bathrooms'] = pd.to_numeric(datos['bathrooms'], errors='coerce')\n",
    "#datos.loc[:,'bedrooms'] = pd.to_numeric(datos['bedrooms'], errors='coerce')\n",
    "#datos.loc[:,'square_feet'] = pd.to_numeric(datos['square_feet'], errors='coerce')\n",
    "datostransformados = datos.copy()\n",
    "\n",
    "datostransformados['bathrooms'] = pd.to_numeric(datos['bathrooms'], errors='coerce')\n",
    "datostransformados['bedrooms'] = pd.to_numeric(datos['bedrooms'], errors='coerce')\n",
    "datostransformados['square_feet'] = pd.to_numeric(datos['square_feet'], errors='coerce')\n",
    "\n",
    "\n",
    "#has_foto a binario, es irreelante si tiene foto o es thumbnail:\n",
    "mapeo_foto = {'Yes': 1, 'Thumbnail': 1, 'No': 0}\n",
    "datostransformados['has_photo_bin'] = datos['has_photo'].map(mapeo_foto)\n",
    "del datostransformados['has_photo']\n",
    "\n",
    "mapeo_fee = {'Yes': 1,'No': 0}\n",
    "datostransformados['has_fee_bin'] = datos['fee'].map(mapeo_fee)\n",
    "del datostransformados['fee']\n",
    "\n",
    "#onehot encoding\n",
    "\n",
    "datostransformados = pd.get_dummies(datostransformados, columns=['category'], prefix='cat', drop_first=True, dtype=int)\n",
    "#datostransformados = pd.get_dummies(datostransformados, columns=['category'], prefix='cat', drop_first=True)\n",
    "\n",
    "\n",
    "datostransformados['pets_allowed'].fillna('No',inplace=True)\n",
    "datostransformados = pd.get_dummies(datostransformados, columns=['pets_allowed'], prefix='pets', drop_first=True, dtype=int)\n",
    "\n",
    "\n",
    "datostransformados = pd.get_dummies(datostransformados, columns=['price_type'], prefix='pri', drop_first=True, dtype=int)\n",
    "\n",
    "#error al leer los datos, borrar columnas que no deberian estar creadas, posiblemente por comas en las columnas title o body\\\n",
    "\n",
    "del datostransformados['cat_Gym']\n",
    "del datostransformados['pets_Monthly']\n",
    "del datostransformados['pri_Los Angeles']\n",
    "del datostransformados['pri_VA']\n",
    "                       \n"
   ]
  },
  {
   "cell_type": "code",
   "execution_count": null,
   "id": "5f617823",
   "metadata": {},
   "outputs": [],
   "source": [
    "datostransformados.info()"
   ]
  },
  {
   "cell_type": "code",
   "execution_count": 12,
   "id": "7df6abfc",
   "metadata": {},
   "outputs": [
    {
     "name": "stdout",
     "output_type": "stream",
     "text": [
      "<class 'pandas.core.frame.DataFrame'>\n",
      "Index: 99608 entries, 0 to 99825\n",
      "Data columns (total 25 columns):\n",
      " #   Column                              Non-Null Count  Dtype  \n",
      "---  ------                              --------------  -----  \n",
      " 0   bathrooms                           99608 non-null  float64\n",
      " 1   bedrooms                            99608 non-null  float64\n",
      " 2   price                               99608 non-null  float64\n",
      " 3   square_feet                         99608 non-null  float64\n",
      " 4   latitude                            99608 non-null  float64\n",
      " 5   longitude                           99608 non-null  float64\n",
      " 6   time                                99608 non-null  float64\n",
      " 7   has_photo_bin                       99608 non-null  float64\n",
      " 8   has_fee_bin                         99608 non-null  float64\n",
      " 9   cat_Parking,Patio/Deck              99608 non-null  int64  \n",
      " 10  cat_housing/rent                    99608 non-null  int64  \n",
      " 11  cat_housing/rent/apartment          99608 non-null  int64  \n",
      " 12  cat_housing/rent/commercial/retail  99608 non-null  int64  \n",
      " 13  cat_housing/rent/condo              99608 non-null  int64  \n",
      " 14  cat_housing/rent/home               99608 non-null  int64  \n",
      " 15  cat_housing/rent/other              99608 non-null  int64  \n",
      " 16  cat_housing/rent/short_term         99608 non-null  int64  \n",
      " 17  pets_Cats                           99608 non-null  int64  \n",
      " 18  pets_Cats,Dogs                      99608 non-null  int64  \n",
      " 19  pets_Cats,Dogs,None                 99608 non-null  int64  \n",
      " 20  pets_Dogs                           99608 non-null  int64  \n",
      " 21  pets_No                             99608 non-null  int64  \n",
      " 22  pri_Monthly                         99608 non-null  int64  \n",
      " 23  pri_Monthly|Weekly                  99608 non-null  int64  \n",
      " 24  pri_Weekly                          99608 non-null  int64  \n",
      "dtypes: float64(9), int64(16)\n",
      "memory usage: 19.8 MB\n"
     ]
    }
   ],
   "source": [
    "#dataset con datos borrados\n",
    "datosclean=datostransformados[['bathrooms', 'bedrooms', 'price','square_feet','latitude','longitude','time','has_photo_bin',\n",
    "                              'has_fee_bin','cat_Parking,Patio/Deck','cat_housing/rent','cat_housing/rent/apartment',\n",
    "                              'cat_housing/rent/commercial/retail','cat_housing/rent/condo','cat_housing/rent/home',\n",
    "                              'cat_housing/rent/other','cat_housing/rent/short_term','pets_Cats','pets_Cats,Dogs',\n",
    "                              'pets_Cats,Dogs,None','pets_Dogs','pets_No','pri_Monthly','pri_Monthly|Weekly','pri_Weekly'\n",
    "]].copy()\n",
    "datosclean.dropna(inplace=True)\n",
    "datosclean.info()"
   ]
  },
  {
   "cell_type": "code",
   "execution_count": 13,
   "id": "9a20de00",
   "metadata": {},
   "outputs": [],
   "source": [
    "datosclean.to_csv('dataset.csv', sep='|')"
   ]
  }
 ],
 "metadata": {
  "kernelspec": {
   "display_name": "mlopstrabajofinal",
   "language": "python",
   "name": "python3"
  },
  "language_info": {
   "codemirror_mode": {
    "name": "ipython",
    "version": 3
   },
   "file_extension": ".py",
   "mimetype": "text/x-python",
   "name": "python",
   "nbconvert_exporter": "python",
   "pygments_lexer": "ipython3",
   "version": "3.12.11"
  }
 },
 "nbformat": 4,
 "nbformat_minor": 5
}
