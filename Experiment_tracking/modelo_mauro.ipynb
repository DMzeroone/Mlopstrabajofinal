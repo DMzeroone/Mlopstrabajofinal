{
 "cells": [
  {
   "cell_type": "markdown",
   "id": "e48ecd69",
   "metadata": {},
   "source": [
    "\n",
    "# 🚀 **MLflow**\n",
    "\n",
    "Este bloque añade **MLflow Tracking** al flujo de trabajo para que todos los **parámetros**, **métricas**, **artefactos** (gráficas) y el **modelo** queden registrados.\n",
    "\n",
    "> **Tracking URI servidor:** `http://186.121.46.71:5000/`  \n",
    "> **Qué vas a registrar:** hiperparámetros del modelo, métricas (Exactitud, F1 macro y ponderado), matriz de confusión, importancia de variables y el propio modelo (con *signature*).\n",
    "\n",
    "---\n",
    "\n",
    "## ✅ Requisitos previos (ejecuta fuera o en una celda separada)\n",
    "1. Tener un entorno (venv) activo con estas librerías:\n",
    "   ```bash\n",
    "   pip install -U mlflow scikit-learn pandas matplotlib joblib\n",
    "   ```\n",
    "2. Servidor MLflow levantado (ejemplo en Windows):\n",
    "   ```bash\n",
    "   mlflow ui \n",
    "     --host 0.0.0.0 \n",
    "     --port 5000     \n",
    "   ```\n"
   ]
  },
  {
   "cell_type": "code",
   "execution_count": 44,
   "id": "8c911328",
   "metadata": {},
   "outputs": [
    {
     "name": "stderr",
     "output_type": "stream",
     "text": [
      "2025/10/07 14:47:02 INFO mlflow.tracking.fluent: Experiment with name 'Clasificacion_Precios' does not exist. Creating a new experiment.\n"
     ]
    },
    {
     "name": "stdout",
     "output_type": "stream",
     "text": [
      "Tracking URI  -> http://186.121.46.71:5000/\n",
      "Experimento   -> <Experiment: artifact_location='mlflow-artifacts:/238271231404982644', creation_time=1759866422259, experiment_id='238271231404982644', last_update_time=1759866422259, lifecycle_stage='active', name='Clasificacion_Precios', tags={}>\n"
     ]
    }
   ],
   "source": [
    "\n",
    "# ============================================================================\n",
    "# 1) CONFIGURACIÓN: Imports y MLflow\n",
    "# ============================================================================\n",
    "\n",
    "import mlflow, mlflow.sklearn\n",
    "from mlflow.models.signature import infer_signature\n",
    "from mlflow.tracking import MlflowClient\n",
    "\n",
    "import pandas as pd\n",
    "import numpy as np\n",
    "import matplotlib.pyplot as plt\n",
    "from pathlib import Path\n",
    "\n",
    "from sklearn.model_selection import train_test_split\n",
    "from sklearn.ensemble import RandomForestClassifier\n",
    "from sklearn.metrics import accuracy_score, f1_score, confusion_matrix\n",
    "\n",
    "# --- Configura Servidor MLflow ---\n",
    "MLFLOW_URI = \"http://186.121.46.71:5000/\"\n",
    "EXPERIMENTO = \"Clasificacion_Precios\"\n",
    "\n",
    "mlflow.set_tracking_uri(MLFLOW_URI)\n",
    "mlflow.set_experiment(EXPERIMENTO)\n",
    "\n",
    "print(\"Tracking URI  ->\", mlflow.get_tracking_uri())\n",
    "print(\"Experimento   ->\", mlflow.get_experiment_by_name(EXPERIMENTO))\n"
   ]
  },
  {
   "cell_type": "code",
   "execution_count": 45,
   "id": "c5c9b92d",
   "metadata": {},
   "outputs": [
    {
     "name": "stdout",
     "output_type": "stream",
     "text": [
      "Archivo cargado desde: D:\\Publico\\Documentos\\2024-2025\\GIT\\Taller1\\Mlopstrabajofinal\\notebooks\\dataset.csv\n",
      "Shape: (99608, 26)\n"
     ]
    },
    {
     "data": {
      "text/html": [
       "<div>\n",
       "<style scoped>\n",
       "    .dataframe tbody tr th:only-of-type {\n",
       "        vertical-align: middle;\n",
       "    }\n",
       "\n",
       "    .dataframe tbody tr th {\n",
       "        vertical-align: top;\n",
       "    }\n",
       "\n",
       "    .dataframe thead th {\n",
       "        text-align: right;\n",
       "    }\n",
       "</style>\n",
       "<table border=\"1\" class=\"dataframe\">\n",
       "  <thead>\n",
       "    <tr style=\"text-align: right;\">\n",
       "      <th></th>\n",
       "      <th>Unnamed: 0</th>\n",
       "      <th>bathrooms</th>\n",
       "      <th>bedrooms</th>\n",
       "      <th>price</th>\n",
       "      <th>square_feet</th>\n",
       "      <th>latitude</th>\n",
       "      <th>longitude</th>\n",
       "      <th>time</th>\n",
       "      <th>has_photo_bin</th>\n",
       "      <th>has_fee_bin</th>\n",
       "      <th>...</th>\n",
       "      <th>cat_housing/rent/other</th>\n",
       "      <th>cat_housing/rent/short_term</th>\n",
       "      <th>pets_Cats</th>\n",
       "      <th>pets_Cats,Dogs</th>\n",
       "      <th>pets_Cats,Dogs,None</th>\n",
       "      <th>pets_Dogs</th>\n",
       "      <th>pets_No</th>\n",
       "      <th>pri_Monthly</th>\n",
       "      <th>pri_Monthly|Weekly</th>\n",
       "      <th>pri_Weekly</th>\n",
       "    </tr>\n",
       "  </thead>\n",
       "  <tbody>\n",
       "    <tr>\n",
       "      <th>0</th>\n",
       "      <td>0</td>\n",
       "      <td>1.0</td>\n",
       "      <td>1.0</td>\n",
       "      <td>2195.0</td>\n",
       "      <td>542.0</td>\n",
       "      <td>33.8520</td>\n",
       "      <td>-118.3759</td>\n",
       "      <td>1.577360e+09</td>\n",
       "      <td>1.0</td>\n",
       "      <td>0.0</td>\n",
       "      <td>...</td>\n",
       "      <td>0</td>\n",
       "      <td>0</td>\n",
       "      <td>1</td>\n",
       "      <td>0</td>\n",
       "      <td>0</td>\n",
       "      <td>0</td>\n",
       "      <td>0</td>\n",
       "      <td>1</td>\n",
       "      <td>0</td>\n",
       "      <td>0</td>\n",
       "    </tr>\n",
       "    <tr>\n",
       "      <th>1</th>\n",
       "      <td>1</td>\n",
       "      <td>1.5</td>\n",
       "      <td>3.0</td>\n",
       "      <td>1250.0</td>\n",
       "      <td>1500.0</td>\n",
       "      <td>37.0867</td>\n",
       "      <td>-76.4941</td>\n",
       "      <td>1.577360e+09</td>\n",
       "      <td>1.0</td>\n",
       "      <td>0.0</td>\n",
       "      <td>...</td>\n",
       "      <td>0</td>\n",
       "      <td>0</td>\n",
       "      <td>0</td>\n",
       "      <td>1</td>\n",
       "      <td>0</td>\n",
       "      <td>0</td>\n",
       "      <td>0</td>\n",
       "      <td>1</td>\n",
       "      <td>0</td>\n",
       "      <td>0</td>\n",
       "    </tr>\n",
       "    <tr>\n",
       "      <th>2</th>\n",
       "      <td>2</td>\n",
       "      <td>2.0</td>\n",
       "      <td>3.0</td>\n",
       "      <td>1395.0</td>\n",
       "      <td>1650.0</td>\n",
       "      <td>35.8230</td>\n",
       "      <td>-78.6438</td>\n",
       "      <td>1.577360e+09</td>\n",
       "      <td>1.0</td>\n",
       "      <td>0.0</td>\n",
       "      <td>...</td>\n",
       "      <td>0</td>\n",
       "      <td>0</td>\n",
       "      <td>0</td>\n",
       "      <td>0</td>\n",
       "      <td>0</td>\n",
       "      <td>0</td>\n",
       "      <td>1</td>\n",
       "      <td>1</td>\n",
       "      <td>0</td>\n",
       "      <td>0</td>\n",
       "    </tr>\n",
       "  </tbody>\n",
       "</table>\n",
       "<p>3 rows × 26 columns</p>\n",
       "</div>"
      ],
      "text/plain": [
       "   Unnamed: 0  bathrooms  bedrooms   price  square_feet  latitude  longitude  \\\n",
       "0           0        1.0       1.0  2195.0        542.0   33.8520  -118.3759   \n",
       "1           1        1.5       3.0  1250.0       1500.0   37.0867   -76.4941   \n",
       "2           2        2.0       3.0  1395.0       1650.0   35.8230   -78.6438   \n",
       "\n",
       "           time  has_photo_bin  has_fee_bin  ...  cat_housing/rent/other  \\\n",
       "0  1.577360e+09            1.0          0.0  ...                       0   \n",
       "1  1.577360e+09            1.0          0.0  ...                       0   \n",
       "2  1.577360e+09            1.0          0.0  ...                       0   \n",
       "\n",
       "   cat_housing/rent/short_term  pets_Cats  pets_Cats,Dogs  \\\n",
       "0                            0          1               0   \n",
       "1                            0          0               1   \n",
       "2                            0          0               0   \n",
       "\n",
       "   pets_Cats,Dogs,None  pets_Dogs  pets_No  pri_Monthly  pri_Monthly|Weekly  \\\n",
       "0                    0          0        0            1                   0   \n",
       "1                    0          0        0            1                   0   \n",
       "2                    0          0        1            1                   0   \n",
       "\n",
       "   pri_Weekly  \n",
       "0           0  \n",
       "1           0  \n",
       "2           0  \n",
       "\n",
       "[3 rows x 26 columns]"
      ]
     },
     "metadata": {},
     "output_type": "display_data"
    }
   ],
   "source": [
    "\n",
    "# ============================================================================\n",
    "# 2) CARGA DE DATOS\n",
    "#    - Busca 'dataset.csv' en ./notebooks o junto al notebook\n",
    "# ============================================================================\n",
    "\n",
    "RUTA_PROYECTO = Path.cwd()\n",
    "\n",
    "posibles = [\n",
    "    RUTA_PROYECTO / \"notebooks\" / \"dataset.csv\",\n",
    "    RUTA_PROYECTO / \"dataset.csv\",\n",
    "    Path(\"dataset.csv\"),\n",
    "]\n",
    "\n",
    "archivo = next((p for p in posibles if p.exists()), None)\n",
    "if archivo is None:\n",
    "    raise FileNotFoundError(\n",
    "        \"No se encontró dataset.csv. Colócalo en ./notebooks o junto al notebook, \"\n",
    "        \"o modifica esta celda con la ruta absoluta.\"\n",
    "    )\n",
    "\n",
    "df = pd.read_csv(archivo, sep=\"|\")\n",
    "print(\"Archivo cargado desde:\", archivo)\n",
    "print(\"Shape:\", df.shape)\n",
    "display(df.head(3))\n"
   ]
  },
  {
   "cell_type": "code",
   "execution_count": 46,
   "id": "54bd375d",
   "metadata": {},
   "outputs": [
    {
     "name": "stdout",
     "output_type": "stream",
     "text": [
      "X shape: (99608, 24)  y shape: (99608,)\n",
      "Cortes de terciles -> q1: 1126.0  q2: 1599.0\n"
     ]
    }
   ],
   "source": [
    "\n",
    "# ============================================================================\n",
    "# 3) PREPROCESAMIENTO\n",
    "#    - Crea etiqueta de 3 clases (precio: bajo/medio/alto) usando terciles\n",
    "#    - Quita columnas no predictoras (price, Unnamed: 0)\n",
    "# ============================================================================\n",
    "\n",
    "assert \"price\" in df.columns, \"Falta la columna 'price' en el dataset.\"\n",
    "\n",
    "q1, q2 = df[\"price\"].quantile(0.33), df[\"price\"].quantile(0.66)\n",
    "def price_to_class(p):\n",
    "    if p < q1:  return 0  # bajo\n",
    "    if p <= q2: return 1  # medio\n",
    "    return 2              # alto\n",
    "\n",
    "y = df[\"price\"].apply(price_to_class)\n",
    "\n",
    "drop_cols = [c for c in [\"price\", \"Unnamed: 0\"] if c in df.columns]\n",
    "X = df.drop(columns=drop_cols)\n",
    "\n",
    "print(\"X shape:\", X.shape, \" y shape:\", y.shape)\n",
    "print(\"Cortes de terciles -> q1:\", float(q1), \" q2:\", float(q2))\n"
   ]
  },
  {
   "cell_type": "code",
   "execution_count": 47,
   "id": "8a61abe3",
   "metadata": {},
   "outputs": [
    {
     "name": "stdout",
     "output_type": "stream",
     "text": [
      "Train: (79686, 24)  Test: (19922, 24)\n"
     ]
    }
   ],
   "source": [
    "\n",
    "# ============================================================================\n",
    "# 4) SPLIT ENTRENAMIENTO/PRUEBA (estratificado)\n",
    "# ============================================================================\n",
    "X_train, X_test, y_train, y_test = train_test_split(\n",
    "    X, y, test_size=0.2, random_state=0, stratify=y\n",
    ")\n",
    "\n",
    "print(\"Train:\", X_train.shape, \" Test:\", X_test.shape)\n"
   ]
  },
  {
   "cell_type": "code",
   "execution_count": 48,
   "id": "05389aff",
   "metadata": {},
   "outputs": [
    {
     "data": {
      "text/plain": [
       "{'exactitud': 0.8280293143258709,\n",
       " 'f1_macro': 0.8272123211136865,\n",
       " 'f1_ponderado': 0.8275870789193016}"
      ]
     },
     "execution_count": 48,
     "metadata": {},
     "output_type": "execute_result"
    }
   ],
   "source": [
    "\n",
    "# ============================================================================\n",
    "# 5) ENTRENAMIENTO Y MÉTRICAS\n",
    "# ============================================================================\n",
    "clf = RandomForestClassifier(\n",
    "    n_estimators=120,\n",
    "    random_state=0,\n",
    "    n_jobs=-1,\n",
    "    class_weight=\"balanced_subsample\"\n",
    ")\n",
    "clf.fit(X_train, y_train)\n",
    "y_pred = clf.predict(X_test)\n",
    "\n",
    "metricas = {\n",
    "    \"exactitud\": float(accuracy_score(y_test, y_pred)),\n",
    "    \"f1_macro\": float(f1_score(y_test, y_pred, average=\"macro\")),\n",
    "    \"f1_ponderado\": float(f1_score(y_test, y_pred, average=\"weighted\")),\n",
    "}\n",
    "metricas\n"
   ]
  },
  {
   "cell_type": "code",
   "execution_count": 49,
   "id": "1ec30979",
   "metadata": {},
   "outputs": [
    {
     "name": "stdout",
     "output_type": "stream",
     "text": [
      "Artefactos guardados: mlflow_plots\\matriz_confusion.png y mlflow_plots\\importancia_variables.png\n"
     ]
    }
   ],
   "source": [
    "\n",
    "# ============================================================================\n",
    "# 6) GRÁFICAS (guardadas como artefactos)\n",
    "#    - Matriz de confusión\n",
    "#    - Importancia de variables (Top‑10)\n",
    "# ============================================================================\n",
    "\n",
    "from pathlib import Path\n",
    "plots_dir = Path(\"mlflow_plots\"); plots_dir.mkdir(exist_ok=True)\n",
    "\n",
    "# Matriz de confusión\n",
    "cm = confusion_matrix(y_test, y_pred)\n",
    "plt.figure()\n",
    "plt.imshow(cm, interpolation=\"nearest\")\n",
    "plt.title(\"Matriz de confusión (RandomForest - rango de precio)\")\n",
    "plt.xlabel(\"Clase predicha\"); plt.ylabel(\"Clase real\")\n",
    "for i in range(cm.shape[0]):\n",
    "    for j in range(cm.shape[1]):\n",
    "        plt.text(j, i, cm[i, j], ha=\"center\", va=\"center\")\n",
    "plt.tight_layout()\n",
    "cm_path = plots_dir / \"matriz_confusion.png\"\n",
    "plt.savefig(cm_path); plt.close()\n",
    "\n",
    "# Importancia de variables\n",
    "importancias = pd.Series(clf.feature_importances_, index=X.columns)                .sort_values(ascending=False).head(10)\n",
    "plt.figure()\n",
    "importancias.plot(kind=\"bar\")\n",
    "plt.title(\"Top‑10 importancia de variables (RandomForest)\")\n",
    "plt.ylabel(\"Importancia\")\n",
    "plt.tight_layout()\n",
    "fi_path = plots_dir / \"importancia_variables.png\"\n",
    "plt.savefig(fi_path); plt.close()\n",
    "\n",
    "print(\"Artefactos guardados:\", cm_path, \"y\", fi_path)\n"
   ]
  },
  {
   "cell_type": "code",
   "execution_count": 50,
   "id": "64923edd",
   "metadata": {},
   "outputs": [
    {
     "name": "stderr",
     "output_type": "stream",
     "text": [
      "d:\\Publico\\Documentos\\2024-2025\\GIT\\Taller1\\Mlopstrabajofinal\\.venv\\Lib\\site-packages\\mlflow\\types\\utils.py:452: UserWarning: Hint: Inferred schema contains integer column(s). Integer columns in Python cannot represent missing values. If your input data contains missing values at inference time, it will be encoded as floats and will cause a schema enforcement error. The best way to avoid this problem is to infer the model schema based on a realistic data sample (training dataset) that includes missing values. Alternatively, you can declare integer columns as doubles (float64) whenever these columns may have missing values. See `Handling Integers With Missing Values <https://www.mlflow.org/docs/latest/models.html#handling-integers-with-missing-values>`_ for more details.\n",
      "  warnings.warn(\n",
      "2025/10/07 14:47:24 WARNING mlflow.models.model: `artifact_path` is deprecated. Please use `name` instead.\n"
     ]
    },
    {
     "name": "stdout",
     "output_type": "stream",
     "text": [
      "🏃 View run rf_precio_3clases at: http://186.121.46.71:5000/#/experiments/238271231404982644/runs/a1271e6d9f924eb08c83837330a64c96\n",
      "🧪 View experiment at: http://186.121.46.71:5000/#/experiments/238271231404982644\n",
      "✅ Run registrado en MLflow. Revisa el UI en http://186.121.46.71:5000/\n"
     ]
    }
   ],
   "source": [
    "\n",
    "# ============================================================================\n",
    "# 7) TRACKING EN MLFLOW\n",
    "#    - Parámetros, métricas, artefactos y modelo con firma\n",
    "# ============================================================================\n",
    "\n",
    "firma = infer_signature(X_test, y_pred)\n",
    "\n",
    "with mlflow.start_run(run_name=\"rf_precio_3clases\"):\n",
    "    # Parámetros\n",
    "    mlflow.log_params({\n",
    "        \"modelo\": \"RandomForestClassifier\",\n",
    "        \"n_estimators\": 120,\n",
    "        \"class_weight\": \"balanced_subsample\",\n",
    "        \"random_state\": 0,\n",
    "        \"num_features\": X.shape[1],\n",
    "        \"precio_q1\": float(q1),\n",
    "        \"precio_q2\": float(q2),\n",
    "    })\n",
    "    # Métricas\n",
    "    for k, v in metricas.items():\n",
    "        mlflow.log_metric(k, v)\n",
    "\n",
    "    # Artefactos\n",
    "    mlflow.log_artifact(str(cm_path), artifact_path=\"plots\")\n",
    "    mlflow.log_artifact(str(fi_path), artifact_path=\"plots\")\n",
    "\n",
    "    # Modelo\n",
    "    mlflow.sklearn.log_model(\n",
    "        sk_model=clf,\n",
    "        artifact_path=\"model\",\n",
    "        signature=firma,\n",
    "        input_example=X_test.head(3)\n",
    "    )\n",
    "\n",
    "print(\"✅ Run registrado en MLflow. Revisa el UI en\", MLFLOW_URI)\n"
   ]
  }
 ],
 "metadata": {
  "kernelspec": {
   "display_name": "Mlopstrabajofinal",
   "language": "python",
   "name": "python3"
  },
  "language_info": {
   "codemirror_mode": {
    "name": "ipython",
    "version": 3
   },
   "file_extension": ".py",
   "mimetype": "text/x-python",
   "name": "python",
   "nbconvert_exporter": "python",
   "pygments_lexer": "ipython3",
   "version": "3.12.4"
  }
 },
 "nbformat": 4,
 "nbformat_minor": 5
}
