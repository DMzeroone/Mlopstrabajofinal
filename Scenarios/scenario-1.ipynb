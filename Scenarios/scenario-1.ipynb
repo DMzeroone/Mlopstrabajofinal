{
 "cells": [
  {
   "cell_type": "markdown",
   "id": "03865f5e",
   "metadata": {},
   "source": [
    "mlflow ui --host 0.0.0.0 --port 5000\n",
    "mlflow server --backend-store-uri sqlite:///backend.db\n",
    "\n",
    "\n",
    "Antes de ejecutar\n",
    "\n",
    "Se crean carpetas dedicadas. \n",
    "mkdir D:\\mlflow\n",
    "mkdir D:\\mlflow\\artifacts\n",
    "\n",
    "Se inicia el servicio. \n",
    "mlflow server --host 0.0.0.0 --port 5000 --backend-store-uri sqlite:///D:/mlflow/backend.db --default-artifact-root file:///D:/mlflow/artifacts\n"
   ]
  },
  {
   "cell_type": "code",
   "execution_count": 5,
   "id": "a35a7e58",
   "metadata": {},
   "outputs": [],
   "source": [
    "import mlflow"
   ]
  },
  {
   "cell_type": "code",
   "execution_count": 6,
   "id": "bd0ad42a",
   "metadata": {},
   "outputs": [],
   "source": [
    "mlflow.set_tracking_uri(\"http://186.121.46.71:5000\")"
   ]
  },
  {
   "cell_type": "code",
   "execution_count": 7,
   "id": "31f7b88c",
   "metadata": {},
   "outputs": [
    {
     "name": "stdout",
     "output_type": "stream",
     "text": [
      "tracking URI: 'http://186.121.46.71:5000'\n"
     ]
    }
   ],
   "source": [
    "print(f\"tracking URI: '{mlflow.get_tracking_uri()}'\")"
   ]
  },
  {
   "cell_type": "code",
   "execution_count": null,
   "id": "53f62c94",
   "metadata": {},
   "outputs": [],
   "source": [
    "mlflow.search_experiments()"
   ]
  }
 ],
 "metadata": {
  "kernelspec": {
   "display_name": "Mlopstrabajofinal",
   "language": "python",
   "name": "python3"
  },
  "language_info": {
   "codemirror_mode": {
    "name": "ipython",
    "version": 3
   },
   "file_extension": ".py",
   "mimetype": "text/x-python",
   "name": "python",
   "nbconvert_exporter": "python",
   "pygments_lexer": "ipython3",
   "version": "3.12.4"
  }
 },
 "nbformat": 4,
 "nbformat_minor": 5
}
